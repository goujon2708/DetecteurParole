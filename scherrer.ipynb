{
 "cells": [
  {
   "attachments": {},
   "cell_type": "markdown",
   "metadata": {},
   "source": [
    "# TP Détecteur de parole - M1 INFO - 2022-2023\n",
    "\n",
    "- MAHOUIN Julien\n",
    "- NOLIERE Alexis\n",
    "- TACHET Nicolas\n",
    "- SCHERRER Arthur"
   ]
  },
  {
   "attachments": {},
   "cell_type": "markdown",
   "metadata": {},
   "source": [
    "### Question 1\n",
    "\n",
    "Quelle est la durée du fichier en secondes ?"
   ]
  },
  {
   "cell_type": "code",
   "execution_count": 3,
   "metadata": {},
   "outputs": [
    {
     "name": "stdout",
     "output_type": "stream",
     "text": [
      "57489603\n",
      "Durée : 3593.10 secondes\n"
     ]
    }
   ],
   "source": [
    "from scipy.io import wavfile\n",
    "\n",
    "# lecture du fichier audio\n",
    "sampling_freq, audio = wavfile.read('audio.wav')\n",
    "\n",
    "# calcul de la durée\n",
    "# nombre d'échantillons divisé par la fréquence d'échantillonaage\n",
    "duration = len(audio) / float(sampling_freq)\n",
    "\n",
    "print(\"Durée : {:.2f} secondes\".format(duration))"
   ]
  }
 ],
 "metadata": {
  "kernelspec": {
   "display_name": "Python 3",
   "language": "python",
   "name": "python3"
  },
  "language_info": {
   "codemirror_mode": {
    "name": "ipython",
    "version": 3
   },
   "file_extension": ".py",
   "mimetype": "text/x-python",
   "name": "python",
   "nbconvert_exporter": "python",
   "pygments_lexer": "ipython3",
   "version": "3.11.0"
  },
  "orig_nbformat": 4
 },
 "nbformat": 4,
 "nbformat_minor": 2
}
