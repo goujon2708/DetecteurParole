{
 "cells": [
  {
   "attachments": {},
   "cell_type": "markdown",
   "metadata": {},
   "source": [
    "### TP Détecteur de parole V1.0 ###\n",
    "Scherrer Arthur, Mahouin Julien, Alexis Noliere, Nicolas Tachet\n",
    "\n"
   ]
  },
  {
   "attachments": {},
   "cell_type": "markdown",
   "metadata": {},
   "source": [
    "## Importation des librairies"
   ]
  },
  {
   "cell_type": "code",
   "execution_count": 134,
   "metadata": {},
   "outputs": [],
   "source": [
    "import numpy as np\n",
    "import matplotlib.pyplot as plt\n",
    "import pandas as pd\n",
    "import scipy.io.wavfile as sio\n",
    "import scipy.stats as stats\n",
    "from sklearn.mixture import GaussianMixture\n",
    "import math\n",
    "from scipy.stats import multivariate_normal"
   ]
  },
  {
   "attachments": {},
   "cell_type": "markdown",
   "metadata": {},
   "source": [
    "## Importation du fichier audio\n",
    "On importe le fichier audio avec la librairie scipy.io.wavfile. On récupère le taux d'échantillonnage et le signal audio ainsi que ça durée."
   ]
  },
  {
   "cell_type": "code",
   "execution_count": 135,
   "metadata": {},
   "outputs": [
    {
     "name": "stdout",
     "output_type": "stream",
     "text": [
      "Nombre d'échantillon par seconde 16000\n",
      "Nombre d'échantillon total 57489603\n",
      "Le temps du fichiers audio en seconde est de :  3593.1001875\n"
     ]
    }
   ],
   "source": [
    "sample,test = sio.read('test_2.wav')\n",
    "print(\"Nombre d'échantillon par seconde\", sample)\n",
    "print(\"Nombre d'échantillon total\",len(test))\n",
    "\n",
    "# On cherche le temps en seconde du fichier audio\n",
    "temps_seconde = len(test)/sample\n",
    "print(\"Le temps du fichiers audio en seconde est de : \",temps_seconde)\n"
   ]
  },
  {
   "attachments": {},
   "cell_type": "markdown",
   "metadata": {},
   "source": [
    "On divise le signal audio par des fenêtre de 30ms avec un pas de 10 ms. "
   ]
  },
  {
   "cell_type": "code",
   "execution_count": 136,
   "metadata": {},
   "outputs": [
    {
     "name": "stdout",
     "output_type": "stream",
     "text": [
      "Le nombre d'échantillon par fenêtre est de :  480\n",
      "Le nombre de fenêtre est de :  119770\n"
     ]
    }
   ],
   "source": [
    "#On divise le signal en fenêtre de 30ms\n",
    "fenetre = 30\n",
    "fenetre_echantillon = int(fenetre*sample/1000)\n",
    "print(\"Le nombre d'échantillon par fenêtre est de : \",fenetre_echantillon)\n",
    "\n",
    "#On en déduit le nombre de fenêtre\n",
    "nb_fenetre = int(len(test)/fenetre_echantillon)\n",
    "print(\"Le nombre de fenêtre est de : \",nb_fenetre)"
   ]
  },
  {
   "cell_type": "code",
   "execution_count": 137,
   "metadata": {},
   "outputs": [
    {
     "name": "stdout",
     "output_type": "stream",
     "text": [
      "La matrice est de dimension :  (119770, 480)\n",
      "L'énergie totale de la matrice est de :  [18.3501931  19.75342678 18.57448836 ... 18.56318498 18.94371868\n",
      " 18.6764075 ]\n"
     ]
    },
    {
     "data": {
      "image/png": "[encoded data removed]",
      "text/plain": [
       "<Figure size 432x288 with 1 Axes>"
      ]
     },
     "metadata": {
      "needs_background": "light"
     },
     "output_type": "display_data"
    }
   ],
   "source": [
    "#On convertie le tableau en matrice avec strid avec 160 colonnes\n",
    "matrice = np.lib.stride_tricks.as_strided(test, shape=(nb_fenetre, fenetre_echantillon), strides=(test.strides[0]*fenetre_echantillon, test.strides[0]))\n",
    "print(\"La matrice est de dimension : \",matrice.shape)\n",
    "\n",
    "#Calcul de l'énergie totale de la matrice\n",
    "energie_test = np.sum(np.array(matrice, dtype='int64')**2,axis=1)\n",
    "#Si l'energie est égale a 0 on le remplace par 1\n",
    "#energie_test[energie_test==0]=1\n",
    "energie = np.log((energie_test))\n",
    "print(\"L'énergie totale de la matrice est de : \",energie)\n",
    "\n",
    "#historgramme de l'énergie\n",
    "plt.hist(energie, bins=100)\n",
    "plt.show()\n"
   ]
  },
  {
   "attachments": {},
   "cell_type": "markdown",
   "metadata": {},
   "source": [
    "### Question 3\n",
    "\n",
    "À combien d’échantillons correspondent respectivement 30 et 10 ms ?"
   ]
  },
  {
   "attachments": {},
   "cell_type": "markdown",
   "metadata": {},
   "source": [
    "10 ms = 160, 30 ms = 480"
   ]
  },
  {
   "attachments": {},
   "cell_type": "markdown",
   "metadata": {},
   "source": [
    "# Étape 2 - Apprendre un GMM"
   ]
  },
  {
   "cell_type": "code",
   "execution_count": 138,
   "metadata": {},
   "outputs": [
    {
     "name": "stdout",
     "output_type": "stream",
     "text": [
      "[[-0.23075543 -0.34132134]\n",
      " [ 1.17388757 -0.73093387]\n",
      " [ 0.63369718  2.11788653]\n",
      " ...\n",
      " [ 3.62529278  4.07227749]\n",
      " [ 4.59704104  4.62131567]\n",
      " [ 6.00177766  5.83225818]]\n"
     ]
    }
   ],
   "source": [
    "# Distribution 1\n",
    "x1 = np.random.normal(0, 1, 1000)\n",
    "y1 = np.random.normal(0, 1, 1000)\n",
    "\n",
    "# Distribution 2\n",
    "x2 = np.random.normal(5, 1, 1000)\n",
    "y2 = np.random.normal(5, 1, 1000)\n",
    "\n",
    "# Création du modèle par concaténation\n",
    "X = np.concatenate((np.vstack((x1, y1)).T, np.vstack((x2, y2)).T), axis=0)\n",
    "\n",
    "print(X)"
   ]
  },
  {
   "attachments": {},
   "cell_type": "markdown",
   "metadata": {},
   "source": [
    "Création de l'objet GMM"
   ]
  },
  {
   "cell_type": "code",
   "execution_count": 139,
   "metadata": {},
   "outputs": [
    {
     "name": "stdout",
     "output_type": "stream",
     "text": [
      "Initialization 0\n",
      "Initialization converged: True\t time lapse 0.02014s\t ll -3.54657\n"
     ]
    },
    {
     "data": {
      "text/html": [
       "<style>#sk-container-id-9 {color: black;background-color: white;}#sk-container-id-9 pre{padding: 0;}#sk-container-id-9 div.sk-toggleable {background-color: white;}#sk-container-id-9 label.sk-toggleable__label {cursor: pointer;display: block;width: 100%;margin-bottom: 0;padding: 0.3em;box-sizing: border-box;text-align: center;}#sk-container-id-9 label.sk-toggleable__label-arrow:before {content: \"▸\";float: left;margin-right: 0.25em;color: #696969;}#sk-container-id-9 label.sk-toggleable__label-arrow:hover:before {color: black;}#sk-container-id-9 div.sk-estimator:hover label.sk-toggleable__label-arrow:before {color: black;}#sk-container-id-9 div.sk-toggleable__content {max-height: 0;max-width: 0;overflow: hidden;text-align: left;background-color: #f0f8ff;}#sk-container-id-9 div.sk-toggleable__content pre {margin: 0.2em;color: black;border-radius: 0.25em;background-color: #f0f8ff;}#sk-container-id-9 input.sk-toggleable__control:checked~div.sk-toggleable__content {max-height: 200px;max-width: 100%;overflow: auto;}#sk-container-id-9 input.sk-toggleable__control:checked~label.sk-toggleable__label-arrow:before {content: \"▾\";}#sk-container-id-9 div.sk-estimator input.sk-toggleable__control:checked~label.sk-toggleable__label {background-color: #d4ebff;}#sk-container-id-9 div.sk-label input.sk-toggleable__control:checked~label.sk-toggleable__label {background-color: #d4ebff;}#sk-container-id-9 input.sk-hidden--visually {border: 0;clip: rect(1px 1px 1px 1px);clip: rect(1px, 1px, 1px, 1px);height: 1px;margin: -1px;overflow: hidden;padding: 0;position: absolute;width: 1px;}#sk-container-id-9 div.sk-estimator {font-family: monospace;background-color: #f0f8ff;border: 1px dotted black;border-radius: 0.25em;box-sizing: border-box;margin-bottom: 0.5em;}#sk-container-id-9 div.sk-estimator:hover {background-color: #d4ebff;}#sk-container-id-9 div.sk-parallel-item::after {content: \"\";width: 100%;border-bottom: 1px solid gray;flex-grow: 1;}#sk-container-id-9 div.sk-label:hover label.sk-toggleable__label {background-color: #d4ebff;}#sk-container-id-9 div.sk-serial::before {content: \"\";position: absolute;border-left: 1px solid gray;box-sizing: border-box;top: 0;bottom: 0;left: 50%;z-index: 0;}#sk-container-id-9 div.sk-serial {display: flex;flex-direction: column;align-items: center;background-color: white;padding-right: 0.2em;padding-left: 0.2em;position: relative;}#sk-container-id-9 div.sk-item {position: relative;z-index: 1;}#sk-container-id-9 div.sk-parallel {display: flex;align-items: stretch;justify-content: center;background-color: white;position: relative;}#sk-container-id-9 div.sk-item::before, #sk-container-id-9 div.sk-parallel-item::before {content: \"\";position: absolute;border-left: 1px solid gray;box-sizing: border-box;top: 0;bottom: 0;left: 50%;z-index: -1;}#sk-container-id-9 div.sk-parallel-item {display: flex;flex-direction: column;z-index: 1;position: relative;background-color: white;}#sk-container-id-9 div.sk-parallel-item:first-child::after {align-self: flex-end;width: 50%;}#sk-container-id-9 div.sk-parallel-item:last-child::after {align-self: flex-start;width: 50%;}#sk-container-id-9 div.sk-parallel-item:only-child::after {width: 0;}#sk-container-id-9 div.sk-dashed-wrapped {border: 1px dashed gray;margin: 0 0.4em 0.5em 0.4em;box-sizing: border-box;padding-bottom: 0.4em;background-color: white;}#sk-container-id-9 div.sk-label label {font-family: monospace;font-weight: bold;display: inline-block;line-height: 1.2em;}#sk-container-id-9 div.sk-label-container {text-align: center;}#sk-container-id-9 div.sk-container {/* jupyter's `normalize.less` sets `[hidden] { display: none; }` but bootstrap.min.css set `[hidden] { display: none !important; }` so we also need the `!important` here to be able to override the default hidden behavior on the sphinx rendered scikit-learn.org. See: https://github.com/scikit-learn/scikit-learn/issues/21755 */display: inline-block !important;position: relative;}#sk-container-id-9 div.sk-text-repr-fallback {display: none;}</style><div id=\"sk-container-id-9\" class=\"sk-top-container\"><div class=\"sk-text-repr-fallback\"><pre>GaussianMixture(max_iter=10, n_components=3, verbose=10)</pre><b>In a Jupyter environment, please rerun this cell to show the HTML representation or trust the notebook. <br />On GitHub, the HTML representation is unable to render, please try loading this page with nbviewer.org.</b></div><div class=\"sk-container\" hidden><div class=\"sk-item\"><div class=\"sk-estimator sk-toggleable\"><input class=\"sk-toggleable__control sk-hidden--visually\" id=\"sk-estimator-id-9\" type=\"checkbox\" checked><label for=\"sk-estimator-id-9\" class=\"sk-toggleable__label sk-toggleable__label-arrow\">GaussianMixture</label><div class=\"sk-toggleable__content\"><pre>GaussianMixture(max_iter=10, n_components=3, verbose=10)</pre></div></div></div></div></div>"
      ],
      "text/plain": [
       "GaussianMixture(max_iter=10, n_components=3, verbose=10)"
      ]
     },
     "execution_count": 139,
     "metadata": {},
     "output_type": "execute_result"
    }
   ],
   "source": [
    "gmm = GaussianMixture(n_components = 3, verbose = 10, max_iter = 10)\n",
    "gmm.fit(X)"
   ]
  },
  {
   "attachments": {},
   "cell_type": "markdown",
   "metadata": {},
   "source": [
    "Classe des nouvelles données"
   ]
  },
  {
   "cell_type": "code",
   "execution_count": 140,
   "metadata": {},
   "outputs": [
    {
     "name": "stdout",
     "output_type": "stream",
     "text": [
      "[1 0]\n"
     ]
    }
   ],
   "source": [
    "new_data = np.array([[0, 0], [5, 5]])\n",
    "labels = gmm.predict(new_data)\n",
    "print(labels)"
   ]
  },
  {
   "attachments": {},
   "cell_type": "markdown",
   "metadata": {},
   "source": [
    "Visualisation des résultats"
   ]
  },
  {
   "cell_type": "code",
   "execution_count": 141,
   "metadata": {},
   "outputs": [
    {
     "data": {
      "image/png": "[encoded data removed]",
      "text/plain": [
       "<Figure size 432x288 with 1 Axes>"
      ]
     },
     "metadata": {
      "needs_background": "light"
     },
     "output_type": "display_data"
    }
   ],
   "source": [
    "plt.scatter(X[:, 0], X[:, 1], c=gmm.predict(X))\n",
    "plt.scatter(new_data[:, 0], new_data[:, 1], c=labels, marker='x', s=100, linewidths=3)\n",
    "plt.show()"
   ]
  },
  {
   "attachments": {},
   "cell_type": "markdown",
   "metadata": {},
   "source": [
    "### Question 5\n",
    "quelle sera la dimension des gaussiennes ?\n",
    "-> univariées\n",
    "### Question 6\n",
    "quelle est la méthode d'initialisation du modèle ?\n",
    "-> np.concatenate() ?\n",
    "### Question 7\n",
    "À quoi correspondent les valeurs \"change\" dans la sortie de l'apprentissage ?\n",
    "-> Changement de gaussienne\n",
    "### Question 8\n",
    "est-il important de fixer à diag ou full la forme des matrices de covariances ?\n",
    "-> Oui, car si on fixe à diag, on considère que les variables sont indépendantes, ce qui n'est pas le cas ici.\n",
    "### Question 9\n",
    "quelle est la vraisemblance du modèle sur les données d'apprentissage ?\n"
   ]
  },
  {
   "cell_type": "code",
   "execution_count": 142,
   "metadata": {},
   "outputs": [
    {
     "name": "stdout",
     "output_type": "stream",
     "text": [
      "Initialization 0\n",
      "Initialization converged: True\t time lapse 0.17746s\t ll -1.82209\n",
      "Gaussienne 1 :\n",
      "  Poids : 0.296\n",
      "  Moyenne : 21.642\n",
      "  Covariance : 0.580\n",
      "Gaussienne 2 :\n",
      "  Poids : 0.254\n",
      "  Moyenne : 19.434\n",
      "  Covariance : 0.501\n",
      "Gaussienne 3 :\n",
      "  Poids : 0.451\n",
      "  Moyenne : 23.514\n",
      "  Covariance : 0.306\n"
     ]
    },
    {
     "data": {
      "image/png": "[encoded data removed]",
      "text/plain": [
       "<Figure size 576x360 with 1 Axes>"
      ]
     },
     "metadata": {
      "needs_background": "light"
     },
     "output_type": "display_data"
    }
   ],
   "source": [
    "# Créer une instance de GMM avec 3 composantes, covariance complète et verbose à 10\n",
    "gmm = GaussianMixture(n_components=3, covariance_type='full', max_iter=10, verbose=10)\n",
    "\n",
    "# Transformer le corpus d'énergies en un vecteur colonne\n",
    "X = energie.reshape(-1, 1)\n",
    "\n",
    "# Entraîner le modèle sur le corpus d'énergies\n",
    "gmm.fit(X)\n",
    "\n",
    "# Récupérer les paramètres des gaussiennes\n",
    "means = gmm.means_\n",
    "covariances = gmm.covariances_\n",
    "weights = gmm.weights_\n",
    "\n",
    "# Afficher les paramètres de chaque gaussienne\n",
    "for i in range(len(weights)):\n",
    "    print(f\"Gaussienne {i+1} :\")\n",
    "    print(f\"  Poids : {weights[i]:.3f}\")\n",
    "    print(f\"  Moyenne : {means[i][0]:.3f}\")\n",
    "    print(f\"  Covariance : {covariances[i][0][0]:.3f}\")\n",
    "\n",
    "# Définir l'intervalle de valeurs pour lesquelles tracer les courbes\n",
    "x = np.linspace(X.min(), X.max(), 1000)\n",
    "\n",
    "# Tracer les courbes des gaussiennes\n",
    "plt.figure(figsize=(8, 5))\n",
    "for i in range(len(weights)):\n",
    "    y = multivariate_normal.pdf(x, mean=means[i], cov=covariances[i])\n",
    "    plt.plot(x, y, label=f\"Gaussienne {i+1}\")\n",
    "plt.xlabel(\"Energie\")\n",
    "plt.ylabel(\"Densité de probabilité\")\n",
    "plt.legend()\n",
    "plt.show()"
   ]
  },
  {
   "cell_type": "code",
   "execution_count": 143,
   "metadata": {},
   "outputs": [
    {
     "data": {
      "image/png": "[encoded data removed]",
      "text/plain": [
       "<Figure size 576x360 with 1 Axes>"
      ]
     },
     "metadata": {
      "needs_background": "light"
     },
     "output_type": "display_data"
    }
   ],
   "source": [
    "# On fussione l'histogramme et les courbes des gaussiennes\n",
    "plt.figure(figsize=(8, 5))\n",
    "plt.hist(X, bins=100, density=True)\n",
    "for i in range(len(weights)):\n",
    "    y = multivariate_normal.pdf(x, mean=means[i], cov=covariances[i])\n",
    "    plt.plot(x, y, label=f\"Gaussienne {i+1}\")\n",
    "plt.xlabel(\"Energie\")\n",
    "plt.ylabel(\"Densité de probabilité\")\n",
    "plt.legend()\n",
    "plt.show()"
   ]
  },
  {
   "cell_type": "code",
   "execution_count": 144,
   "metadata": {},
   "outputs": [
    {
     "name": "stdout",
     "output_type": "stream",
     "text": [
      "La médiane des gaussiennes est de :  21.64208553789114\n",
      "L'écart type des gaussiennes est de :  1.6674024434008907\n",
      "Le seuil de silence est de :  18.30728065108936\n"
     ]
    }
   ],
   "source": [
    "#Calcul de la médiane des gaussiennes\n",
    "mediane = np.median(means)\n",
    "print(\"La médiane des gaussiennes est de : \",mediane)\n",
    "\n",
    "#Calcul de l'écart type\n",
    "ecart_type = np.std(means)\n",
    "print(\"L'écart type des gaussiennes est de : \",ecart_type)\n",
    "\n",
    "silence = mediane - 2*ecart_type\n",
    "print(\"Le seuil de silence est de : \",silence)\n"
   ]
  },
  {
   "cell_type": "code",
   "execution_count": 145,
   "metadata": {},
   "outputs": [
    {
     "name": "stdout",
     "output_type": "stream",
     "text": [
      "Le nombre de fenêtre de silence est de :  298\n",
      "[1.70371669 1.7047625  1.70474243 1.70474163 1.70322396 1.70473967\n",
      " 1.70432709 1.70448336 1.70394033 1.70506882 1.70495161 1.70398335\n",
      " 1.7044748  1.70488127 1.70171898 1.70396209 1.70503271 1.70393264\n",
      " 1.70439993 1.70228892 1.70309197 1.7027034  1.7035027  1.70408899\n",
      " 1.70017691 1.70424943 1.70230863 1.70252441 1.70417053 1.70133197\n",
      " 1.7049567  1.70494597 1.70264613 1.69439786 1.70466534 1.70400051\n",
      " 1.7045336  1.70451665 1.70405894 1.69737545 1.70484173 1.6998313\n",
      " 1.70350841 1.70390805 1.69864602 1.70112724 1.70500099 1.70324132\n",
      " 1.70441387 1.70420669 1.70478653 1.70278879 1.69933228 1.70197611\n",
      " 1.70356198 1.70340503 1.70215445 1.70407301 1.70423023 1.70120567\n",
      " 1.70493294 1.69971419 1.70480431 1.70429164 1.70368145 1.70497614\n",
      " 1.70471147 1.70232683 1.70429661 1.70405648 1.70264333 1.70150285\n",
      " 1.70415951 1.70424814 1.69499525 1.70441089 1.7013809  1.70330274\n",
      " 1.70458982 1.70124018 1.69901871 1.7042957  1.70433861 1.70417089\n",
      " 1.70088516 1.70287203 1.7039505  1.70447819 1.70217977 1.70487177\n",
      " 1.70438768 1.70493088 1.70340319 1.70495512 1.70388635 1.7037811\n",
      " 1.70501467 1.70292585 1.70390533 1.704638   1.70504163 1.70309164\n",
      " 1.70440615 1.70345691 1.70437455 1.7035174  1.70055951 1.70021724\n",
      " 1.70507858 1.70372279 1.70192127 1.70350259 1.70333787 1.70484895\n",
      " 1.70506803 1.7005984  1.70484912 1.70255638 1.7048688  1.70489523\n",
      " 1.70487609 1.70476709 1.70075363 1.7039709  1.69981697 1.69353786\n",
      " 1.69630353 1.70180342 1.70254307 1.70384551 1.70488553 1.70475183\n",
      " 1.70503434 1.70295166 1.70443559 1.70422614 1.70472182 1.70444574\n",
      " 1.70323042 1.70473898 1.70498772 1.70328296 1.70495251 1.7048974\n",
      " 1.70479817 1.70440388 1.70328009 1.70365359 1.69928221 1.70425613\n",
      " 1.70428892 1.70285284 1.70478397 1.70451301 1.70263428 1.70209276\n",
      " 1.70414909 1.70456642 1.70452379 1.70477502 1.7049244  1.70304803\n",
      " 1.70479085 1.703818   1.70386083 1.70433363 1.70460952 1.70428697\n",
      " 1.70347899 1.70411732 1.70412715 1.70459309 1.705078   1.70491529\n",
      " 1.70228408 1.70040806 1.70483305 1.70453114 1.70392035 1.70468132\n",
      " 1.69979781 1.7049149  1.70345469 1.70079654 1.70454516 1.70175463\n",
      " 1.70504562 1.7044629  1.70297248 1.70496672 1.70238527 1.70373887\n",
      " 1.70391367 1.70485474 1.70436115 1.69875311 1.70463554 1.70054265\n",
      " 1.70436769 1.70293484 1.70377394 1.70426701 1.7047985  1.70486165\n",
      " 1.69823031 1.70357781 1.70388937 1.70476762 1.70421695 1.70424779\n",
      " 1.70468345 1.70458015 1.70500873 1.70364233 1.70443169 1.70390299\n",
      " 1.70304503 1.70439311 1.70215886 1.70483719 1.70456712 1.70415939\n",
      " 1.70384526 1.70476517 1.70427925 1.704123   1.70348947 1.70491198\n",
      " 1.70473108 1.70482524 1.70479726 1.70476923 1.70456509 1.70389851\n",
      " 1.69494811 1.70504147 1.69987456 1.70413517 1.70495959 1.70501461\n",
      " 1.70494813 1.70321623 1.70480548 1.70336271 1.70465841 1.70404276\n",
      " 1.70266531 1.70302246 1.70468982 1.70472256 1.70447462 1.70474801\n",
      " 1.7042908  1.70410029 1.70382156 1.70279746 1.70450882 1.70495244\n",
      " 1.7000991  1.70322891 1.70292798 1.70436687 1.70469338 1.70288198\n",
      " 1.70492719 1.7042677  1.70450418 1.70325274 1.70437386 1.70084196\n",
      " 1.70399427 1.70384383 1.70493684 1.70289561 1.70438569 1.70398727\n",
      " 1.70347273 1.70298687 1.70310623 1.70406128 1.7038953  1.7030502\n",
      " 1.70060316 1.7043037  1.70359087 1.70498455 1.70497129 1.70481536\n",
      " 1.69656265 1.70408742 1.70247491 1.70422859 1.69931589 1.6922834\n",
      " 1.68925605 1.69271738 1.69588312 1.69900141]\n"
     ]
    }
   ],
   "source": [
    "silence = energie[energie < silence]\n",
    "print(\"Le nombre de fenêtre de silence est de : \",len(silence))\n",
    "\n",
    "#On effectue l'exponentielle sur le tableau de silence\n",
    "silence = np.log(silence)\n",
    "\n",
    "#On effectue la racine carré sur le tableau de silence\n",
    "silence = np.sqrt(silence)\n",
    "\n",
    "\n",
    "print(silence)\n",
    "\n",
    "sio.write(\"silence.wav\", sample, silence)\n"
   ]
  },
  {
   "attachments": {},
   "cell_type": "markdown",
   "metadata": {},
   "source": [
    "### Etape 4 - Algorithme EM"
   ]
  },
  {
   "cell_type": "code",
   "execution_count": 48,
   "metadata": {},
   "outputs": [],
   "source": [
    "import numpy as np\n",
    "import matplotlib.pyplot as plt\n",
    "import pandas as pd\n",
    "import scipy.io.wavfile as wav\n",
    "from sklearn.mixture import GaussianMixture\n",
    "import wave"
   ]
  },
  {
   "cell_type": "code",
   "execution_count": 49,
   "metadata": {},
   "outputs": [],
   "source": [
    "#On veux générer un détecteur de silence, pour cela on va utiliser un modèle de mélange de gaussienne\n",
    "\n"
   ]
  },
  {
   "cell_type": "code",
   "execution_count": 146,
   "metadata": {},
   "outputs": [
    {
     "name": "stdout",
     "output_type": "stream",
     "text": [
      "Il y a du recouvrement entre les fenêtres de silence\n",
      "Il y a du recouvrement entre les fenêtres de silence\n",
      "Il y a du recouvrement entre les fenêtres de silence\n",
      "Il y a du recouvrement entre les fenêtres de silence\n",
      "Il y a du recouvrement entre les fenêtres de silence\n",
      "Il y a du recouvrement entre les fenêtres de silence\n",
      "Il y a du recouvrement entre les fenêtres de silence\n",
      "Il y a du recouvrement entre les fenêtres de silence\n",
      "Il y a du recouvrement entre les fenêtres de silence\n",
      "Il y a du recouvrement entre les fenêtres de silence\n",
      "Il y a du recouvrement entre les fenêtres de silence\n",
      "Il y a du recouvrement entre les fenêtres de silence\n",
      "Il y a du recouvrement entre les fenêtres de silence\n",
      "Il y a du recouvrement entre les fenêtres de silence\n",
      "Il y a du recouvrement entre les fenêtres de silence\n",
      "Il y a du recouvrement entre les fenêtres de silence\n",
      "Il y a du recouvrement entre les fenêtres de silence\n",
      "[-0.05090332 -0.04351807 -0.03262329 ...  0.00622559  0.01489258\n",
      "  0.01983643]\n"
     ]
    }
   ],
   "source": [
    "# Charger un fichier audio et convertir en échantillons\n",
    "fs, audio = wav.read('test_2.wav')\n",
    "audio = audio / (2.0**15)\n",
    "\n",
    "# Paramètres pour découper le signal audio en fenêtres de 30 ms avec un pas de 10 ms\n",
    "window_size = 30\n",
    "step_size = int(fenetre*sample/1000)\n",
    "\n",
    "# Découper le signal audio en fenêtres\n",
    "signal_windows = []\n",
    "for i in range(0, len(audio) - window_size, step_size):\n",
    "    window = audio[i:i + window_size]\n",
    "    signal_windows.append(window)\n",
    "\n",
    "# Convertir les fenêtres audio en vecteurs de caractéristiques\n",
    "features = np.abs(np.fft.fft(signal_windows))\n",
    "features = features[:, :int(features.shape[1]/2)]\n",
    "\n",
    "# Entraîner un modèle GMM à 3 composantes\n",
    "gmm = GaussianMixture(n_components=3, covariance_type='diag')\n",
    "gmm.fit(features)\n",
    "\n",
    "# Trouver la probabilité de chaque fenêtre audio d'appartenir au cluster 3 (le cluster le plus éloigné)\n",
    "cluster_probs = gmm.predict_proba(features)\n",
    "silence_probs = cluster_probs[:, 2]\n",
    "\n",
    "# Décider si chaque fenêtre audio est du silence ou non en utilisant un seuil de probabilité\n",
    "threshold = 0.8\n",
    "is_silence = silence_probs > threshold\n",
    "\n",
    "# Fusionner les fenêtres audio contenant du silence\n",
    "silence_windows = []\n",
    "for i in range(len(is_silence)):\n",
    "    if is_silence[i]:\n",
    "        window = audio[i*step_size:i*step_size + window_size]\n",
    "        silence_windows.append(window)\n",
    "\n",
    "#On regarde si il y a du recouvrement entre les fenêtres de silence\n",
    "for i in range(len(silence_windows)):\n",
    "    if i != 0:\n",
    "        if silence_windows[i][0] == silence_windows[i-1][-1]:\n",
    "            print(\"Il y a du recouvrement entre les fenêtres de silence\")\n",
    "\n",
    "#On enlève le revouvrement entre les fenêtres de silence\n",
    "for i in range(len(silence_windows)):\n",
    "    if i != 0:\n",
    "        if silence_windows[i][0] == silence_windows[i-1][-1]:\n",
    "            silence_windows[i] = silence_windows[i][1:]\n",
    "            \n",
    "# Concaténer les fenêtres audio contenant du silence pour obtenir le signal de silence final\n",
    "silence = np.concatenate(silence_windows)\n",
    "print(silence)\n",
    "\n",
    "# On génére un fichier audio de silence\n",
    "sio.write(\"silence.wav\", sample, silence)"
   ]
  },
  {
   "cell_type": "code",
   "execution_count": 34,
   "metadata": {},
   "outputs": [
    {
     "name": "stdout",
     "output_type": "stream",
     "text": [
      "[-0.00900269  0.02127075  0.00073242 ... -0.13632202 -0.13595581\n",
      " -0.13418579]\n"
     ]
    }
   ],
   "source": [
    "# Charger un fichier audio et convertir en échantillons\n",
    "fs, audio = wav.read('test_2.wav')\n",
    "audio = audio / (2.0**15)\n",
    "\n",
    "# Paramètres pour découper le signal audio en fenêtres de 30 ms avec un pas de 10 ms\n",
    "window_size = 30\n",
    "step_size = int(fenetre*sample/1000)\n",
    "\n",
    "# Définir les paramètres de seuillage\n",
    "threshold_start = 0.05\n",
    "threshold_end = 0.01\n",
    "alpha = 1.1\n",
    "beta = 0.9\n",
    "gamma = 0.9\n",
    "\n",
    "# Initialiser les paramètres\n",
    "threshold = threshold_start\n",
    "silence_duration = 0\n",
    "is_silence = np.zeros(len(audio), dtype=bool)\n",
    "\n",
    "# Parcourir chaque fenêtre audio\n",
    "for i in range(0, len(audio) - window_size, step_size):\n",
    "    # Calculer la puissance du signal dans la fenêtre courante\n",
    "    power = np.sum(audio[i:i+window_size]**2) / window_size\n",
    "    \n",
    "    # Si la puissance est inférieure au seuil actuel, augmenter la durée de silence\n",
    "    if power < threshold:\n",
    "        silence_duration += step_size\n",
    "    # Sinon, mettre à jour le seuil et réinitialiser la durée de silence\n",
    "    else:\n",
    "        threshold = alpha * threshold + beta * power\n",
    "        silence_duration = gamma * silence_duration\n",
    "        \n",
    "    # Si la durée de silence est supérieure à 100 ms, marquer les échantillons correspondants comme étant du silence\n",
    "    if silence_duration > 0.1 * fs:\n",
    "        is_silence[i:i+window_size] = True\n",
    "\n",
    "# Fusionner les fenêtres audio contenant du silence\n",
    "silence_windows = []\n",
    "for i in range(len(is_silence)):\n",
    "    if is_silence[i]:\n",
    "        window = audio[i*step_size:i*step_size + window_size]\n",
    "        silence_windows.append(window)\n",
    "\n",
    "# Concaténer les fenêtres audio contenant du silence pour obtenir le signal de silence final\n",
    "silence = np.concatenate(silence_windows)\n",
    "print(silence)\n",
    "\n",
    "#On cherche a enlever le recouvrement entre les fenêtres de silence\n",
    "silence = silence[0::fenetre_echantillon]\n",
    "\n",
    "# On génére un fichier audio de silence\n",
    "sio.write(\"silence.wav\", fs, silence)\n"
   ]
  },
  {
   "cell_type": "code",
   "execution_count": null,
   "metadata": {},
   "outputs": [],
   "source": [
    "e: /Users/tachet/Documents/GitHub/Weather/Weather/app/src/main/java/master/kotlin/weather/MainActivity.kt: (26, 30): Unresolved reference: databinding"
   ]
  }
 ],
 "metadata": {
  "kernelspec": {
   "display_name": "base",
   "language": "python",
   "name": "python3"
  },
  "language_info": {
   "codemirror_mode": {
    "name": "ipython",
    "version": 3
   },
   "file_extension": ".py",
   "mimetype": "text/x-python",
   "name": "python",
   "nbconvert_exporter": "python",
   "pygments_lexer": "ipython3",
   "version": "3.9.12"
  },
  "orig_nbformat": 4,
  "vscode": {
   "interpreter": {
    "hash": "1d4cf4fdb778761a4c56cd6310874d359f0f8f2660097f7b57a7d473544fb0d7"
   }
  }
 },
 "nbformat": 4,
 "nbformat_minor": 2
}
