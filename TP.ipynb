{
 "cells": [
  {
   "attachments": {},
   "cell_type": "markdown",
   "metadata": {},
   "source": [
    "### TP Détecteur de parole V1.0 ###\n",
    "Scherrer Arthur, Mahouin Julien, Alexis Noliere, Nicolas Tachet\n",
    "\n"
   ]
  },
  {
   "attachments": {},
   "cell_type": "markdown",
   "metadata": {},
   "source": [
    "## Importation des librairies"
   ]
  },
  {
   "cell_type": "code",
   "execution_count": 16,
   "metadata": {},
   "outputs": [],
   "source": [
    "import numpy as np\n",
    "import matplotlib.pyplot as plt\n",
    "import pandas as pd\n",
    "import scipy.io.wavfile as wav\n",
    "from sklearn.mixture import GaussianMixture\n",
    "import wave"
   ]
  },
  {
   "attachments": {},
   "cell_type": "markdown",
   "metadata": {},
   "source": [
    "## Importation du fichier audio\n",
    "On importe le fichier audio avec la librairie scipy.io.wavfile. On récupère le taux d'échantillonnage et le signal audio ainsi que ça durée."
   ]
  },
  {
   "cell_type": "code",
   "execution_count": 17,
   "metadata": {},
   "outputs": [
    {
     "name": "stdout",
     "output_type": "stream",
     "text": [
      "Nombre d'échantillon par seconde 16000\n",
      "Nombre d'échantillon total 57489603\n",
      "Le temps du fichiers audio en seconde est de :  3593.1001875\n"
     ]
    }
   ],
   "source": [
    "sample,test = wav.read('test_2.wav')\n",
    "print(\"Nombre d'échantillon par seconde\", sample)\n",
    "print(\"Nombre d'échantillon total\",len(test))\n",
    "\n",
    "# On cherche le temps en seconde du fichier audio\n",
    "temps_seconde = len(test)/sample\n",
    "print(\"Le temps du fichiers audio en seconde est de : \",temps_seconde)\n"
   ]
  },
  {
   "attachments": {},
   "cell_type": "markdown",
   "metadata": {},
   "source": [
    "On divise le signal audio par des fenêtre de 30ms avec un pas de 10 ms. "
   ]
  },
  {
   "cell_type": "code",
   "execution_count": 18,
   "metadata": {},
   "outputs": [
    {
     "name": "stdout",
     "output_type": "stream",
     "text": [
      "Le nombre d'échantillon par fenêtre est de :  480\n",
      "Le nombre de fenêtre est de :  119770\n"
     ]
    }
   ],
   "source": [
    "#On divise le signal en fenêtre de 30ms\n",
    "fenetre =30\n",
    "fenetre_echantillon = int(fenetre*sample/1000)\n",
    "print(\"Le nombre d'échantillon par fenêtre est de : \",fenetre_echantillon)\n",
    "\n",
    "#On en déduit le nombre de fenêtre\n",
    "nb_fenetre = int(len(test)/fenetre_echantillon)\n",
    "print(\"Le nombre de fenêtre est de : \",nb_fenetre)"
   ]
  },
  {
   "cell_type": "code",
   "execution_count": 19,
   "metadata": {},
   "outputs": [
    {
     "name": "stdout",
     "output_type": "stream",
     "text": [
      "La matrice est de dimension :  (119770, 480)\n",
      "L'énergie totale de la matrice est de :  [18.3501931  19.75342678 18.57448836 ... 18.56318498 18.94371868\n",
      " 18.6764075 ]\n"
     ]
    },
    {
     "data": {
      "image/png": "[encoded data removed]",
      "text/plain": [
       "<Figure size 640x480 with 1 Axes>"
      ]
     },
     "metadata": {},
     "output_type": "display_data"
    }
   ],
   "source": [
    "#On convertie le tableau en matrice avec strid avec 160 colonnes\n",
    "matrice = np.lib.stride_tricks.as_strided(test, shape=(nb_fenetre, fenetre_echantillon), strides=(test.strides[0]*fenetre_echantillon, test.strides[0]))\n",
    "print(\"La matrice est de dimension : \",matrice.shape)\n",
    "\n",
    "#Calcul de l'énergie totale de la matrice\n",
    "energie_test = np.sum(np.array(matrice, dtype='int64')**2,axis=1)\n",
    "#Si l'energie est égale a 0 on le remplace par 1\n",
    "energie_test[energie_test==0]=1\n",
    "energie = np.log((energie_test))\n",
    "print(\"L'énergie totale de la matrice est de : \",energie)\n",
    "\n",
    "#historgramme de l'énergie\n",
    "plt.hist(energie, bins=100)\n",
    "plt.show()\n"
   ]
  },
  {
   "attachments": {},
   "cell_type": "markdown",
   "metadata": {},
   "source": [
    "### Question 3\n",
    "\n",
    "À combien d’échantillons correspondent respectivement 30 et 10 ms ?"
   ]
  },
  {
   "attachments": {},
   "cell_type": "markdown",
   "metadata": {},
   "source": [
    "10 ms = 160, 30 ms = 480"
   ]
  },
  {
   "attachments": {},
   "cell_type": "markdown",
   "metadata": {},
   "source": [
    "# Étape 2 - Apprendre un GMM"
   ]
  },
  {
   "cell_type": "code",
   "execution_count": 20,
   "metadata": {},
   "outputs": [
    {
     "name": "stdout",
     "output_type": "stream",
     "text": [
      "[[ 0.04771418 -0.13266881]\n",
      " [ 1.32440334 -1.49929913]\n",
      " [ 2.1746699   1.75069868]\n",
      " ...\n",
      " [ 5.70989911  5.34615183]\n",
      " [ 4.99471397  6.11073396]\n",
      " [ 4.47968191  6.36633542]]\n"
     ]
    }
   ],
   "source": [
    "# Distribution 1\n",
    "x1 = np.random.normal(0, 1, 1000)\n",
    "y1 = np.random.normal(0, 1, 1000)\n",
    "\n",
    "# Distribution 2\n",
    "x2 = np.random.normal(5, 1, 1000)\n",
    "y2 = np.random.normal(5, 1, 1000)\n",
    "\n",
    "# Création du modèle par concaténation\n",
    "X = np.concatenate((np.vstack((x1, y1)).T, np.vstack((x2, y2)).T), axis=0)\n",
    "\n",
    "print(X)"
   ]
  },
  {
   "attachments": {},
   "cell_type": "markdown",
   "metadata": {},
   "source": [
    "Création de l'objet GMM"
   ]
  },
  {
   "cell_type": "code",
   "execution_count": 21,
   "metadata": {},
   "outputs": [
    {
     "name": "stdout",
     "output_type": "stream",
     "text": [
      "Initialization 0\n",
      "Initialization converged: True\t time lapse 0.33093s\t ll -3.50868\n"
     ]
    },
    {
     "data": {
      "text/html": [
       "<style>#sk-container-id-2 {color: black;background-color: white;}#sk-container-id-2 pre{padding: 0;}#sk-container-id-2 div.sk-toggleable {background-color: white;}#sk-container-id-2 label.sk-toggleable__label {cursor: pointer;display: block;width: 100%;margin-bottom: 0;padding: 0.3em;box-sizing: border-box;text-align: center;}#sk-container-id-2 label.sk-toggleable__label-arrow:before {content: \"▸\";float: left;margin-right: 0.25em;color: #696969;}#sk-container-id-2 label.sk-toggleable__label-arrow:hover:before {color: black;}#sk-container-id-2 div.sk-estimator:hover label.sk-toggleable__label-arrow:before {color: black;}#sk-container-id-2 div.sk-toggleable__content {max-height: 0;max-width: 0;overflow: hidden;text-align: left;background-color: #f0f8ff;}#sk-container-id-2 div.sk-toggleable__content pre {margin: 0.2em;color: black;border-radius: 0.25em;background-color: #f0f8ff;}#sk-container-id-2 input.sk-toggleable__control:checked~div.sk-toggleable__content {max-height: 200px;max-width: 100%;overflow: auto;}#sk-container-id-2 input.sk-toggleable__control:checked~label.sk-toggleable__label-arrow:before {content: \"▾\";}#sk-container-id-2 div.sk-estimator input.sk-toggleable__control:checked~label.sk-toggleable__label {background-color: #d4ebff;}#sk-container-id-2 div.sk-label input.sk-toggleable__control:checked~label.sk-toggleable__label {background-color: #d4ebff;}#sk-container-id-2 input.sk-hidden--visually {border: 0;clip: rect(1px 1px 1px 1px);clip: rect(1px, 1px, 1px, 1px);height: 1px;margin: -1px;overflow: hidden;padding: 0;position: absolute;width: 1px;}#sk-container-id-2 div.sk-estimator {font-family: monospace;background-color: #f0f8ff;border: 1px dotted black;border-radius: 0.25em;box-sizing: border-box;margin-bottom: 0.5em;}#sk-container-id-2 div.sk-estimator:hover {background-color: #d4ebff;}#sk-container-id-2 div.sk-parallel-item::after {content: \"\";width: 100%;border-bottom: 1px solid gray;flex-grow: 1;}#sk-container-id-2 div.sk-label:hover label.sk-toggleable__label {background-color: #d4ebff;}#sk-container-id-2 div.sk-serial::before {content: \"\";position: absolute;border-left: 1px solid gray;box-sizing: border-box;top: 0;bottom: 0;left: 50%;z-index: 0;}#sk-container-id-2 div.sk-serial {display: flex;flex-direction: column;align-items: center;background-color: white;padding-right: 0.2em;padding-left: 0.2em;position: relative;}#sk-container-id-2 div.sk-item {position: relative;z-index: 1;}#sk-container-id-2 div.sk-parallel {display: flex;align-items: stretch;justify-content: center;background-color: white;position: relative;}#sk-container-id-2 div.sk-item::before, #sk-container-id-2 div.sk-parallel-item::before {content: \"\";position: absolute;border-left: 1px solid gray;box-sizing: border-box;top: 0;bottom: 0;left: 50%;z-index: -1;}#sk-container-id-2 div.sk-parallel-item {display: flex;flex-direction: column;z-index: 1;position: relative;background-color: white;}#sk-container-id-2 div.sk-parallel-item:first-child::after {align-self: flex-end;width: 50%;}#sk-container-id-2 div.sk-parallel-item:last-child::after {align-self: flex-start;width: 50%;}#sk-container-id-2 div.sk-parallel-item:only-child::after {width: 0;}#sk-container-id-2 div.sk-dashed-wrapped {border: 1px dashed gray;margin: 0 0.4em 0.5em 0.4em;box-sizing: border-box;padding-bottom: 0.4em;background-color: white;}#sk-container-id-2 div.sk-label label {font-family: monospace;font-weight: bold;display: inline-block;line-height: 1.2em;}#sk-container-id-2 div.sk-label-container {text-align: center;}#sk-container-id-2 div.sk-container {/* jupyter's `normalize.less` sets `[hidden] { display: none; }` but bootstrap.min.css set `[hidden] { display: none !important; }` so we also need the `!important` here to be able to override the default hidden behavior on the sphinx rendered scikit-learn.org. See: https://github.com/scikit-learn/scikit-learn/issues/21755 */display: inline-block !important;position: relative;}#sk-container-id-2 div.sk-text-repr-fallback {display: none;}</style><div id=\"sk-container-id-2\" class=\"sk-top-container\"><div class=\"sk-text-repr-fallback\"><pre>GaussianMixture(max_iter=10, n_components=3, verbose=10)</pre><b>In a Jupyter environment, please rerun this cell to show the HTML representation or trust the notebook. <br />On GitHub, the HTML representation is unable to render, please try loading this page with nbviewer.org.</b></div><div class=\"sk-container\" hidden><div class=\"sk-item\"><div class=\"sk-estimator sk-toggleable\"><input class=\"sk-toggleable__control sk-hidden--visually\" id=\"sk-estimator-id-2\" type=\"checkbox\" checked><label for=\"sk-estimator-id-2\" class=\"sk-toggleable__label sk-toggleable__label-arrow\">GaussianMixture</label><div class=\"sk-toggleable__content\"><pre>GaussianMixture(max_iter=10, n_components=3, verbose=10)</pre></div></div></div></div></div>"
      ],
      "text/plain": [
       "GaussianMixture(max_iter=10, n_components=3, verbose=10)"
      ]
     },
     "execution_count": 21,
     "metadata": {},
     "output_type": "execute_result"
    }
   ],
   "source": [
    "gmm = GaussianMixture(n_components = 3, verbose = 10, max_iter = 10)\n",
    "gmm.fit(X)"
   ]
  },
  {
   "attachments": {},
   "cell_type": "markdown",
   "metadata": {},
   "source": [
    "Classe des nouvelles données"
   ]
  },
  {
   "cell_type": "code",
   "execution_count": 22,
   "metadata": {},
   "outputs": [
    {
     "name": "stdout",
     "output_type": "stream",
     "text": [
      "[1 0]\n"
     ]
    }
   ],
   "source": [
    "new_data = np.array([[0, 0], [5, 5]])\n",
    "labels = gmm.predict(new_data)\n",
    "print(labels)"
   ]
  },
  {
   "attachments": {},
   "cell_type": "markdown",
   "metadata": {},
   "source": [
    "Visualisation des résultats"
   ]
  },
  {
   "cell_type": "code",
   "execution_count": 23,
   "metadata": {},
   "outputs": [
    {
     "data": {
      "image/png": "[encoded data removed]",
      "text/plain": [
       "<Figure size 640x480 with 1 Axes>"
      ]
     },
     "metadata": {},
     "output_type": "display_data"
    }
   ],
   "source": [
    "plt.scatter(X[:, 0], X[:, 1], c=gmm.predict(X))\n",
    "plt.scatter(new_data[:, 0], new_data[:, 1], c=labels, marker='x', s=100, linewidths=3)\n",
    "plt.show()"
   ]
  },
  {
   "attachments": {},
   "cell_type": "markdown",
   "metadata": {},
   "source": [
    "### Question 5\n",
    "quelle sera la dimension des gaussiennes ?\n",
    "-> univariées\n",
    "### Question 6\n",
    "quelle est la méthode d'initialisation du modèle ?\n",
    "-> np.concatenate() ?\n",
    "### Question 7\n",
    "### Question 8\n",
    "est-il important de fixer à diag ou full la forme des matrices de covariances ?\n",
    "-> Dans certains cas, il peut être approprié de fixer la forme de la matrice de covariance à une structure diagonale. Cette approche est couramment utilisée lorsque par exemple lorsque la corrélation entre les variables est considérée comme négligeable.\n",
    "\n",
    "Dans d'autres cas, il peut être plus approprié de fixer la forme de la matrice de covariance à une structure complète. Cette approche est souvent utilisée lorsque les variables sont supposées être corrélées les unes avec les autres."
   ]
  },
  {
   "attachments": {},
   "cell_type": "markdown",
   "metadata": {},
   "source": [
    "# Étape 3 - Détection de parole"
   ]
  },
  {
   "attachments": {},
   "cell_type": "markdown",
   "metadata": {},
   "source": [
    "Stocker des données dans un fichier wave :"
   ]
  },
  {
   "cell_type": "code",
   "execution_count": 24,
   "metadata": {},
   "outputs": [],
   "source": [
    "# Définir les paramètres du fichier wave\n",
    "framerate = 44100\n",
    "nb_channels = 1\n",
    "samplewidth = 2\n",
    "\n",
    "# Générer des données audio\n",
    "data = np.random.randint(low=-32767, high=32767, size=framerate * 5, dtype=np.int16)\n",
    "\n",
    "# Ouvrir un nouveau fichier wave en mode écriture\n",
    "with wave.open('audio.wav', 'wb') as wavfile:\n",
    "    # Définir les paramètres du fichier wave\n",
    "    wavfile.setnchannels(nb_channels)\n",
    "    wavfile.setsampwidth(samplewidth)\n",
    "    wavfile.setframerate(framerate)\n",
    "\n",
    "    # Écrire les données audio dans le fichier wave\n",
    "    wavfile.writeframes(data)"
   ]
  },
  {
   "attachments": {},
   "cell_type": "markdown",
   "metadata": {},
   "source": [
    "# Étape 4 - Algorithme EM (chat gpt be like)"
   ]
  },
  {
   "cell_type": "code",
   "execution_count": 25,
   "metadata": {},
   "outputs": [
    {
     "name": "stdout",
     "output_type": "stream",
     "text": [
      "[-0.00570679 -0.00543213 -0.00598145 ... -0.00436401  0.00512695\n",
      "  0.02322388]\n"
     ]
    }
   ],
   "source": [
    "# Charger un fichier audio et convertir en échantillons\n",
    "fs, audio = wav.read('test_2.wav')\n",
    "audio = audio / (2.0**15)\n",
    "\n",
    "# Paramètres pour découper le signal audio en fenêtres de 30 ms avec un pas de 10 ms\n",
    "window_size = int(0.03 * fs)\n",
    "step_size = int(0.01 * fs)\n",
    "\n",
    "# Découper le signal audio en fenêtres\n",
    "signal_windows = []\n",
    "for i in range(0, len(audio) - window_size, step_size):\n",
    "    window = audio[i:i + window_size]\n",
    "    signal_windows.append(window)\n",
    "\n",
    "# Convertir les fenêtres audio en vecteurs de caractéristiques\n",
    "features = np.abs(np.fft.fft(signal_windows))\n",
    "features = features[:, :int(features.shape[1]/2)]\n",
    "\n",
    "# Entraîner un modèle GMM à 3 composantes\n",
    "gmm = GaussianMixture(n_components=3, covariance_type='diag')\n",
    "gmm.fit(features)\n",
    "\n",
    "# Trouver la probabilité de chaque fenêtre audio d'appartenir au cluster 3 (le cluster le plus éloigné)\n",
    "cluster_probs = gmm.predict_proba(features)\n",
    "silence_probs = cluster_probs[:, 2]\n",
    "\n",
    "# Décider si chaque fenêtre audio est du silence ou non en utilisant un seuil de probabilité\n",
    "threshold = 0.8\n",
    "is_silence = silence_probs > threshold\n",
    "\n",
    "# Fusionner les fenêtres audio contenant du silence\n",
    "silence_windows = []\n",
    "for i in range(len(is_silence)):\n",
    "    if is_silence[i]:\n",
    "        window = audio[i*step_size:i*step_size + window_size]\n",
    "        silence_windows.append(window)\n",
    "\n",
    "# Concaténer les fenêtres audio contenant du silence pour obtenir le signal de silence final\n",
    "silence = np.concatenate(silence_windows)\n",
    "print(silence)"
   ]
  },
  {
   "attachments": {},
   "cell_type": "markdown",
   "metadata": {},
   "source": [
    "### Variante censée être plus rapide"
   ]
  },
  {
   "cell_type": "code",
   "execution_count": 26,
   "metadata": {},
   "outputs": [
    {
     "name": "stdout",
     "output_type": "stream",
     "text": [
      "[-0.01370239 -0.01373291 -0.01449585 ... -0.02450562 -0.02999878\n",
      " -0.02883911]\n"
     ]
    }
   ],
   "source": [
    "# Charger un fichier audio et convertir en échantillons\n",
    "fs, audio = wav.read('test_2.wav')\n",
    "audio = audio / (2.0**15)\n",
    "\n",
    "# Paramètres pour découper le signal audio en fenêtres de 30 ms avec un pas de 10 ms\n",
    "window_size = int(0.03 * fs)\n",
    "step_size = int(0.01 * fs)\n",
    "\n",
    "# Définir les paramètres de seuillage\n",
    "threshold_start = 0.05\n",
    "threshold_end = 0.01\n",
    "alpha = 1.1\n",
    "beta = 0.9\n",
    "gamma = 0.9\n",
    "\n",
    "# Initialiser les paramètres\n",
    "threshold = threshold_start\n",
    "silence_duration = 0\n",
    "is_silence = np.zeros(len(audio), dtype=bool)\n",
    "\n",
    "# Parcourir chaque fenêtre audio\n",
    "for i in range(0, len(audio) - window_size, step_size):\n",
    "    # Calculer la puissance du signal dans la fenêtre courante\n",
    "    power = np.sum(audio[i:i+window_size]**2) / window_size\n",
    "    \n",
    "    # Si la puissance est inférieure au seuil actuel, augmenter la durée de silence\n",
    "    if power < threshold:\n",
    "        silence_duration += step_size\n",
    "    # Sinon, mettre à jour le seuil et réinitialiser la durée de silence\n",
    "    else:\n",
    "        threshold = alpha * threshold + beta * power\n",
    "        silence_duration = gamma * silence_duration\n",
    "        \n",
    "    # Si la durée de silence est supérieure à 100 ms, marquer les échantillons correspondants comme étant du silence\n",
    "    if silence_duration > 0.1 * fs:\n",
    "        is_silence[i:i+window_size] = True\n",
    "\n",
    "# Fusionner les fenêtres audio contenant du silence\n",
    "silence_windows = []\n",
    "for i in range(len(is_silence)):\n",
    "    if is_silence[i]:\n",
    "        window = audio[i*step_size:i*step_size + window_size]\n",
    "        silence_windows.append(window)\n",
    "\n",
    "# Concaténer les fenêtres audio contenant du silence pour obtenir le signal de silence final\n",
    "silence = np.concatenate(silence_windows)\n",
    "print(silence)"
   ]
  }
 ],
 "metadata": {
  "kernelspec": {
   "display_name": "base",
   "language": "python",
   "name": "python3"
  },
  "language_info": {
   "codemirror_mode": {
    "name": "ipython",
    "version": 3
   },
   "file_extension": ".py",
   "mimetype": "text/x-python",
   "name": "python",
   "nbconvert_exporter": "python",
   "pygments_lexer": "ipython3",
   "version": "3.11.0"
  },
  "orig_nbformat": 4,
  "vscode": {
   "interpreter": {
    "hash": "1d4cf4fdb778761a4c56cd6310874d359f0f8f2660097f7b57a7d473544fb0d7"
   }
  }
 },
 "nbformat": 4,
 "nbformat_minor": 2
}
